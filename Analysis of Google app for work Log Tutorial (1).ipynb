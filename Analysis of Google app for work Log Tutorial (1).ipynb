{
 "cells": [
  {
   "cell_type": "markdown",
   "metadata": {
    "collapsed": false
   },
   "source": [
    "# Analysis of Google app for work Log Tutorial (1)\n",
    "\n",
    "In this case, we use *pyes* python library to retrieve *Google app for work* log data for data clustering, aggregation and visualization.\n",
    "\n",
    "Transform the log to user-user matrix and use bokeh to visualize the matrix"
   ]
  },
  {
   "cell_type": "markdown",
   "metadata": {},
   "source": [
    "## Step 1: Connect to Elasticsearch via **pyes**\n",
    "\n",
    "### Installation of pyes\n",
    "pip install pyes==0.99.2 (This \"Search\" is under pyes.query, http://pydoc.net/Python/pyes/0.99.5/pyes.query\n",
    ")\n",
    "\n",
    "We hope to get summary of login locations (country) for each user.\n",
    "\n",
    "To aggregate two fields \"actor_email\" and \"geoip_countryName\"\n"
   ]
  },
  {
   "cell_type": "code",
   "execution_count": 12,
   "metadata": {
    "collapsed": false
   },
   "outputs": [
    {
     "ename": "NoServerAvailable",
     "evalue": "list index out of range",
     "output_type": "error",
     "traceback": [
      "\u001b[1;31m\u001b[0m",
      "\u001b[1;31mNoServerAvailable\u001b[0mTraceback (most recent call last)",
      "\u001b[1;32m<ipython-input-12-e24c29afb178>\u001b[0m in \u001b[0;36m<module>\u001b[1;34m()\u001b[0m\n\u001b[0;32m     18\u001b[0m \u001b[1;33m\u001b[0m\u001b[0m\n\u001b[0;32m     19\u001b[0m \u001b[0mrs\u001b[0m \u001b[1;33m=\u001b[0m \u001b[0mconn\u001b[0m\u001b[1;33m.\u001b[0m\u001b[0msearch\u001b[0m\u001b[1;33m(\u001b[0m\u001b[0mquery\u001b[0m\u001b[1;33m=\u001b[0m\u001b[0mqsearch\u001b[0m\u001b[1;33m,\u001b[0m \u001b[0mindices\u001b[0m\u001b[1;33m=\u001b[0m\u001b[1;34m'google'\u001b[0m \u001b[1;33m,\u001b[0m\u001b[0mtype\u001b[0m\u001b[1;33m=\u001b[0m\u001b[1;34m\"drive\"\u001b[0m \u001b[1;33m)\u001b[0m\u001b[1;33m\u001b[0m\u001b[0m\n\u001b[1;32m---> 20\u001b[1;33m \u001b[1;32mprint\u001b[0m \u001b[0mjson\u001b[0m\u001b[1;33m.\u001b[0m\u001b[0mdumps\u001b[0m\u001b[1;33m(\u001b[0m\u001b[0mrs\u001b[0m\u001b[1;33m.\u001b[0m\u001b[0maggs\u001b[0m\u001b[1;33m,\u001b[0m\u001b[0mindent\u001b[0m\u001b[1;33m=\u001b[0m\u001b[1;36m2\u001b[0m\u001b[1;33m)\u001b[0m\u001b[1;33m\u001b[0m\u001b[0m\n\u001b[0m",
      "\u001b[1;32m/opt/conda/lib/python2.7/site-packages/pyes/es.pyc\u001b[0m in \u001b[0;36maggs\u001b[1;34m(self)\u001b[0m\n\u001b[0;32m   1452\u001b[0m     \u001b[1;32mdef\u001b[0m \u001b[0maggs\u001b[0m\u001b[1;33m(\u001b[0m\u001b[0mself\u001b[0m\u001b[1;33m)\u001b[0m\u001b[1;33m:\u001b[0m\u001b[1;33m\u001b[0m\u001b[0m\n\u001b[0;32m   1453\u001b[0m         \u001b[1;32mif\u001b[0m \u001b[0mself\u001b[0m\u001b[1;33m.\u001b[0m\u001b[0m_results\u001b[0m \u001b[1;32mis\u001b[0m \u001b[0mNone\u001b[0m\u001b[1;33m:\u001b[0m\u001b[1;33m\u001b[0m\u001b[0m\n\u001b[1;32m-> 1454\u001b[1;33m             \u001b[0mself\u001b[0m\u001b[1;33m.\u001b[0m\u001b[0m_do_search\u001b[0m\u001b[1;33m(\u001b[0m\u001b[1;33m)\u001b[0m\u001b[1;33m\u001b[0m\u001b[0m\n\u001b[0m\u001b[0;32m   1455\u001b[0m         \u001b[1;32mreturn\u001b[0m \u001b[0mself\u001b[0m\u001b[1;33m.\u001b[0m\u001b[0m_aggs\u001b[0m\u001b[1;33m\u001b[0m\u001b[0m\n\u001b[0;32m   1456\u001b[0m \u001b[1;33m\u001b[0m\u001b[0m\n",
      "\u001b[1;32m/opt/conda/lib/python2.7/site-packages/pyes/es.pyc\u001b[0m in \u001b[0;36m_do_search\u001b[1;34m(self, auto_increment)\u001b[0m\n\u001b[0;32m   1383\u001b[0m                 \u001b[0mself\u001b[0m\u001b[1;33m.\u001b[0m\u001b[0mstart\u001b[0m \u001b[1;33m+=\u001b[0m \u001b[0mself\u001b[0m\u001b[1;33m.\u001b[0m\u001b[0mchuck_size\u001b[0m\u001b[1;33m\u001b[0m\u001b[0m\n\u001b[0;32m   1384\u001b[0m \u001b[1;33m\u001b[0m\u001b[0m\n\u001b[1;32m-> 1385\u001b[1;33m             \u001b[0mself\u001b[0m\u001b[1;33m.\u001b[0m\u001b[0m_results\u001b[0m \u001b[1;33m=\u001b[0m \u001b[0mself\u001b[0m\u001b[1;33m.\u001b[0m\u001b[0m_search_raw\u001b[0m\u001b[1;33m(\u001b[0m\u001b[0mself\u001b[0m\u001b[1;33m.\u001b[0m\u001b[0mstart\u001b[0m\u001b[1;33m,\u001b[0m \u001b[0mself\u001b[0m\u001b[1;33m.\u001b[0m\u001b[0mchuck_size\u001b[0m\u001b[1;33m)\u001b[0m\u001b[1;33m\u001b[0m\u001b[0m\n\u001b[0m\u001b[0;32m   1386\u001b[0m \u001b[1;33m\u001b[0m\u001b[0m\n\u001b[0;32m   1387\u001b[0m             \u001b[0mdo_scan\u001b[0m \u001b[1;33m=\u001b[0m \u001b[0mself\u001b[0m\u001b[1;33m.\u001b[0m\u001b[0mquery_params\u001b[0m\u001b[1;33m.\u001b[0m\u001b[0mpop\u001b[0m\u001b[1;33m(\u001b[0m\u001b[1;34m\"search_type\"\u001b[0m\u001b[1;33m,\u001b[0m \u001b[0mNone\u001b[0m\u001b[1;33m)\u001b[0m \u001b[1;33m==\u001b[0m \u001b[1;34m\"scan\"\u001b[0m\u001b[1;33m\u001b[0m\u001b[0m\n",
      "\u001b[1;32m/opt/conda/lib/python2.7/site-packages/pyes/es.pyc\u001b[0m in \u001b[0;36m_search_raw\u001b[1;34m(self, start, size)\u001b[0m\n\u001b[0;32m   1626\u001b[0m \u001b[1;33m\u001b[0m\u001b[0m\n\u001b[0;32m   1627\u001b[0m         return self.connection.search_raw(self.search, indices=self.indices,\n\u001b[1;32m-> 1628\u001b[1;33m                                           doc_types=self.doc_types, headers=self.headers, **query_params)\n\u001b[0m\u001b[0;32m   1629\u001b[0m \u001b[1;33m\u001b[0m\u001b[0m\n\u001b[0;32m   1630\u001b[0m     \u001b[1;32mdef\u001b[0m \u001b[0mget_suggested_texts\u001b[0m\u001b[1;33m(\u001b[0m\u001b[0mself\u001b[0m\u001b[1;33m)\u001b[0m\u001b[1;33m:\u001b[0m\u001b[1;33m\u001b[0m\u001b[0m\n",
      "\u001b[1;32m/opt/conda/lib/python2.7/site-packages/pyes/es.pyc\u001b[0m in \u001b[0;36msearch_raw\u001b[1;34m(self, query, indices, doc_types, headers, **query_params)\u001b[0m\n\u001b[0;32m    998\u001b[0m         \u001b[0mbody\u001b[0m \u001b[1;33m=\u001b[0m \u001b[0mself\u001b[0m\u001b[1;33m.\u001b[0m\u001b[0m_encode_query\u001b[0m\u001b[1;33m(\u001b[0m\u001b[0mquery\u001b[0m\u001b[1;33m)\u001b[0m\u001b[1;33m\u001b[0m\u001b[0m\n\u001b[0;32m    999\u001b[0m         \u001b[0mpath\u001b[0m \u001b[1;33m=\u001b[0m \u001b[0mself\u001b[0m\u001b[1;33m.\u001b[0m\u001b[0m_make_path\u001b[0m\u001b[1;33m(\u001b[0m\u001b[0mindices\u001b[0m\u001b[1;33m,\u001b[0m \u001b[0mdoc_types\u001b[0m\u001b[1;33m,\u001b[0m \u001b[1;34m\"_search\"\u001b[0m\u001b[1;33m)\u001b[0m\u001b[1;33m\u001b[0m\u001b[0m\n\u001b[1;32m-> 1000\u001b[1;33m         \u001b[1;32mreturn\u001b[0m \u001b[0mself\u001b[0m\u001b[1;33m.\u001b[0m\u001b[0m_send_request\u001b[0m\u001b[1;33m(\u001b[0m\u001b[1;34m'GET'\u001b[0m\u001b[1;33m,\u001b[0m \u001b[0mpath\u001b[0m\u001b[1;33m,\u001b[0m \u001b[0mbody\u001b[0m\u001b[1;33m,\u001b[0m \u001b[0mparams\u001b[0m\u001b[1;33m=\u001b[0m\u001b[0mquery_params\u001b[0m\u001b[1;33m,\u001b[0m \u001b[0mheaders\u001b[0m\u001b[1;33m=\u001b[0m\u001b[0mheaders\u001b[0m\u001b[1;33m)\u001b[0m\u001b[1;33m\u001b[0m\u001b[0m\n\u001b[0m\u001b[0;32m   1001\u001b[0m \u001b[1;33m\u001b[0m\u001b[0m\n\u001b[0;32m   1002\u001b[0m     def search_raw_multi(self, queries, indices_list=None, doc_types_list=None,\n",
      "\u001b[1;32m/opt/conda/lib/python2.7/site-packages/pyes/es.pyc\u001b[0m in \u001b[0;36m_send_request\u001b[1;34m(self, method, path, body, params, headers, raw, return_response)\u001b[0m\n\u001b[0;32m    439\u001b[0m \u001b[1;33m\u001b[0m\u001b[0m\n\u001b[0;32m    440\u001b[0m         \u001b[1;31m# execute the request\u001b[0m\u001b[1;33m\u001b[0m\u001b[1;33m\u001b[0m\u001b[0m\n\u001b[1;32m--> 441\u001b[1;33m         \u001b[0mresponse\u001b[0m \u001b[1;33m=\u001b[0m \u001b[0mself\u001b[0m\u001b[1;33m.\u001b[0m\u001b[0mconnection\u001b[0m\u001b[1;33m.\u001b[0m\u001b[0mexecute\u001b[0m\u001b[1;33m(\u001b[0m\u001b[0mrequest\u001b[0m\u001b[1;33m)\u001b[0m\u001b[1;33m\u001b[0m\u001b[0m\n\u001b[0m\u001b[0;32m    442\u001b[0m \u001b[1;33m\u001b[0m\u001b[0m\n\u001b[0;32m    443\u001b[0m         \u001b[1;32mif\u001b[0m \u001b[0mself\u001b[0m\u001b[1;33m.\u001b[0m\u001b[0mdump_curl\u001b[0m \u001b[1;32mis\u001b[0m \u001b[1;32mnot\u001b[0m \u001b[0mNone\u001b[0m\u001b[1;33m:\u001b[0m\u001b[1;33m\u001b[0m\u001b[0m\n",
      "\u001b[1;32m/opt/conda/lib/python2.7/site-packages/pyes/connection_http.pyc\u001b[0m in \u001b[0;36mexecute\u001b[1;34m(self, request)\u001b[0m\n\u001b[0;32m    107\u001b[0m         \u001b[1;32mwhile\u001b[0m \u001b[0mTrue\u001b[0m\u001b[1;33m:\u001b[0m\u001b[1;33m\u001b[0m\u001b[0m\n\u001b[0;32m    108\u001b[0m             \u001b[1;32mif\u001b[0m \u001b[1;32mnot\u001b[0m \u001b[0mserver\u001b[0m\u001b[1;33m:\u001b[0m\u001b[1;33m\u001b[0m\u001b[0m\n\u001b[1;32m--> 109\u001b[1;33m                 \u001b[0mself\u001b[0m\u001b[1;33m.\u001b[0m\u001b[0m_local\u001b[0m\u001b[1;33m.\u001b[0m\u001b[0mserver\u001b[0m \u001b[1;33m=\u001b[0m \u001b[0mserver\u001b[0m \u001b[1;33m=\u001b[0m \u001b[0mself\u001b[0m\u001b[1;33m.\u001b[0m\u001b[0m_get_server\u001b[0m\u001b[1;33m(\u001b[0m\u001b[1;33m)\u001b[0m\u001b[1;33m\u001b[0m\u001b[0m\n\u001b[0m\u001b[0;32m    110\u001b[0m             \u001b[1;32mtry\u001b[0m\u001b[1;33m:\u001b[0m\u001b[1;33m\u001b[0m\u001b[0m\n\u001b[0;32m    111\u001b[0m                 \u001b[0mparse_result\u001b[0m \u001b[1;33m=\u001b[0m \u001b[0murlparse\u001b[0m\u001b[1;33m(\u001b[0m\u001b[0mserver\u001b[0m\u001b[1;33m)\u001b[0m\u001b[1;33m\u001b[0m\u001b[0m\n",
      "\u001b[1;32m/opt/conda/lib/python2.7/site-packages/pyes/connection_http.pyc\u001b[0m in \u001b[0;36m_get_server\u001b[1;34m(self)\u001b[0m\n\u001b[0;32m    143\u001b[0m                 \u001b[1;32mreturn\u001b[0m \u001b[0mrandom\u001b[0m\u001b[1;33m.\u001b[0m\u001b[0mchoice\u001b[0m\u001b[1;33m(\u001b[0m\u001b[0mself\u001b[0m\u001b[1;33m.\u001b[0m\u001b[0m_active_servers\u001b[0m\u001b[1;33m)\u001b[0m\u001b[1;33m\u001b[0m\u001b[0m\n\u001b[0;32m    144\u001b[0m             \u001b[1;32mexcept\u001b[0m \u001b[0mIndexError\u001b[0m \u001b[1;32mas\u001b[0m \u001b[0mex\u001b[0m\u001b[1;33m:\u001b[0m\u001b[1;33m\u001b[0m\u001b[0m\n\u001b[1;32m--> 145\u001b[1;33m                 \u001b[1;32mraise\u001b[0m \u001b[0mNoServerAvailable\u001b[0m\u001b[1;33m(\u001b[0m\u001b[0mex\u001b[0m\u001b[1;33m)\u001b[0m\u001b[1;33m\u001b[0m\u001b[0m\n\u001b[0m\u001b[0;32m    146\u001b[0m \u001b[1;33m\u001b[0m\u001b[0m\n\u001b[0;32m    147\u001b[0m     \u001b[1;32mdef\u001b[0m \u001b[0m_drop_server\u001b[0m\u001b[1;33m(\u001b[0m\u001b[0mself\u001b[0m\u001b[1;33m,\u001b[0m \u001b[0mserver\u001b[0m\u001b[1;33m)\u001b[0m\u001b[1;33m:\u001b[0m\u001b[1;33m\u001b[0m\u001b[0m\n",
      "\u001b[1;31mNoServerAvailable\u001b[0m: list index out of range"
     ]
    }
   ],
   "source": [
    "import pyes\n",
    "import json\n",
    "\n",
    "r='actor_email'\n",
    "c='geoip_countryName'\n",
    "es_address='114.32.24.166:9200'\n",
    "\n",
    "conn=pyes.es.ES(es_address)\n",
    "q = pyes.MatchAllQuery()\n",
    "\n",
    "\n",
    "tagg = pyes.aggs.TermsAgg('user', field= r, sub_aggs=[]) \n",
    "tagg1 = pyes.aggs.TermsAgg('country', field= c)  \n",
    "tagg.sub_aggs.append(tagg1) \n",
    "\n",
    "qsearch = pyes.query.Search(q) \n",
    "qsearch.agg.add(tagg)\n",
    "\n",
    "rs = conn.search(query=qsearch, indices='google' ,type=\"drive\" )\n",
    "print json.dumps(rs.aggs,indent=2)"
   ]
  },
  {
   "cell_type": "markdown",
   "metadata": {},
   "source": [
    "setup index list of row and column for filling in data in to matrix"
   ]
  },
  {
   "cell_type": "code",
   "execution_count": 4,
   "metadata": {
    "collapsed": false
   },
   "outputs": [
    {
     "name": "stdout",
     "output_type": "stream",
     "text": [
      "36\n",
      "9\n"
     ]
    }
   ],
   "source": [
    "rowIndexList = []\n",
    "colIndexList = []\n",
    "for user in rs.aggs['user']['buckets']:\n",
    "    #排除空白的帳號以及已放入rowIndexList的帳號\n",
    "    if user['key']!=\"\" and user['key'] not in rowIndexList:\n",
    "        rowIndexList.append(user['key'])\n",
    "    \n",
    "    for country in user['country']['buckets']:\n",
    "        if country['key'] not in colIndexList:\n",
    "            colIndexList.append(country['key'])\n",
    "\n",
    "print len(rowIndexList)\n",
    "print len(colIndexList)\n"
   ]
  },
  {
   "cell_type": "markdown",
   "metadata": {},
   "source": [
    "To creat an empty matrix, in Python the matrix is nested List, i.e., [[...],[...],...]"
   ]
  },
  {
   "cell_type": "code",
   "execution_count": 5,
   "metadata": {
    "collapsed": false
   },
   "outputs": [],
   "source": [
    "matrix=[]\n",
    "for i in range(0,len(rowIndexList)):\n",
    "    matrix.append([0.0]*len(colIndexList))\n",
    "#matrix"
   ]
  },
  {
   "cell_type": "markdown",
   "metadata": {},
   "source": [
    "Via rowIndexList and colIndexList, put login country times of each user from rs.aggs into matrix"
   ]
  },
  {
   "cell_type": "code",
   "execution_count": 6,
   "metadata": {
    "collapsed": false
   },
   "outputs": [],
   "source": [
    "for user in rs.aggs['user']['buckets']:\n",
    "    if user['key'] in rowIndexList:\n",
    "        for country in user['country']['buckets']:\n",
    "            if country['key'] in colIndexList:\n",
    "                matrix[rowIndexList.index(user['key'])][colIndexList.index(country['key'])]= float(country['doc_count'])"
   ]
  },
  {
   "cell_type": "markdown",
   "metadata": {},
   "source": [
    "為了後續運算，借重numpy套件，幫助我們進行線性代數等相關數學處理，所以將matrix這個雙層Python List資料格式，轉換為numpy的data matrix格式"
   ]
  },
  {
   "cell_type": "code",
   "execution_count": 7,
   "metadata": {
    "collapsed": false
   },
   "outputs": [],
   "source": [
    "import numpy as np\n",
    "from sklearn.metrics.pairwise import cosine_similarity\n",
    "\n",
    "#data user從哪些來源國家的次數\n",
    "data1 = np.array(matrix)\n",
    "#data user從哪些來源國家的表準化次數(介於0~1之間)\n",
    "data_norm = data1 / np.linalg.norm(data1)\n",
    "#user-user的距離矩陣(相鄰矩陣 proximity matrix, distance matrix, adjacency matrix)\n",
    "dist_data_norm = 1-cosine_similarity(data_norm)\n",
    "\n",
    "dist_data = cosine_similarity(data1)"
   ]
  },
  {
   "cell_type": "markdown",
   "metadata": {},
   "source": [
    "<img src=\"images/user-user.png\" />"
   ]
  },
  {
   "cell_type": "code",
   "execution_count": 8,
   "metadata": {
    "collapsed": true
   },
   "outputs": [],
   "source": [
    "nodes=[]\n",
    "for user in rowIndexList:\n",
    "    u={}\n",
    "    u['group']=1\n",
    "    u['name']=user\n",
    "    nodes.append(u)\n",
    "\n",
    "links=[]\n",
    "\n",
    "\n",
    "\n",
    "for i in range(0,len(dist_data)):\n",
    "    for j in range(0,len(dist_data[i])):\n",
    "        l={}\n",
    "        l['source']=i\n",
    "        l['target']=j\n",
    "        l['value']=float(dist_data[i][j])\n",
    "        links.append(l)\n",
    "\n",
    "data={}\n",
    "data['links']=links\n",
    "data['nodes']=nodes"
   ]
  },
  {
   "cell_type": "code",
   "execution_count": 9,
   "metadata": {
    "collapsed": false
   },
   "outputs": [],
   "source": [
    "import numpy as np\n",
    "\n",
    "from bokeh.plotting import figure, show, output_file\n",
    "from bokeh.models import HoverTool, ColumnDataSource\n",
    "\n",
    "\n",
    "\n",
    "nodes = data['nodes']\n",
    "names = [node['name'] for node in sorted(data['nodes'], key=lambda x: x['group'])]\n",
    "\n",
    "N = len(nodes)\n",
    "counts = np.zeros((N, N))\n",
    "for link in data['links']:\n",
    "    counts[link['source'], link['target']] = link['value']\n",
    "    counts[link['target'], link['source']] = link['value']\n",
    "\n",
    "colormap = [\"#444444\", \"#a6cee3\", \"#1f78b4\", \"#b2df8a\", \"#33a02c\", \"#fb9a99\",\n",
    "            \"#e31a1c\", \"#fdbf6f\", \"#ff7f00\", \"#cab2d6\", \"#6a3d9a\"]\n",
    "\n",
    "xname = []\n",
    "yname = []\n",
    "color = []\n",
    "alpha = []\n",
    "for i, node1 in enumerate(nodes):\n",
    "    for j, node2 in enumerate(nodes):\n",
    "        xname.append(node1['name'])\n",
    "        yname.append(node2['name'])\n",
    "\n",
    "        alpha.append(min(counts[i,j]/4.0, 0.9) + 0.1)\n",
    "\n",
    "        if node1['group'] == node2['group']:\n",
    "            color.append(colormap[node1['group']])\n",
    "        else:\n",
    "            color.append('lightgrey')\n",
    "\n",
    "source = ColumnDataSource(data=dict(\n",
    "    xname=xname,\n",
    "    yname=yname,\n",
    "    colors=color,\n",
    "    alphas=alpha,\n",
    "    count=counts.flatten(),\n",
    "))\n",
    "\n",
    "p = figure(title=\"Les Mis Occurrences\",\n",
    "           x_axis_location=\"above\", tools=\"hover,save\",\n",
    "           x_range=list(reversed(names)), y_range=names)\n",
    "\n",
    "p.plot_width = 800\n",
    "p.plot_height = 800\n",
    "p.grid.grid_line_color = None\n",
    "p.axis.axis_line_color = None\n",
    "p.axis.major_tick_line_color = None\n",
    "p.axis.major_label_text_font_size = \"5pt\"\n",
    "p.axis.major_label_standoff = 0\n",
    "p.xaxis.major_label_orientation = np.pi/3\n",
    "\n",
    "p.rect('xname', 'yname', 0.9, 0.9, source=source,\n",
    "       color='colors', alpha='alphas', line_color=None)\n",
    "\n",
    "p.select_one(HoverTool).tooltips = [\n",
    "    ('names', '@yname, @xname'),\n",
    "    ('count', '@count'),\n",
    "]\n",
    "\n",
    "output_file(\"les_mis.html\", title=\"les_mis.py example\")\n",
    "\n",
    "show(p) # show the plot"
   ]
  }
 ],
 "metadata": {
  "anaconda-cloud": {},
  "kernelspec": {
   "display_name": "Python 3",
   "language": "python",
   "name": "python3"
  },
  "language_info": {
   "codemirror_mode": {
    "name": "ipython",
    "version": 3
   },
   "file_extension": ".py",
   "mimetype": "text/x-python",
   "name": "python",
   "nbconvert_exporter": "python",
   "pygments_lexer": "ipython3",
   "version": "3.5.2"
  }
 },
 "nbformat": 4,
 "nbformat_minor": 0
}
